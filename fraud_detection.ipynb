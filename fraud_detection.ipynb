{
  "nbformat": 4,
  "nbformat_minor": 0,
  "metadata": {
    "colab": {
      "name": "fraud-detection.ipynb",
      "provenance": [],
      "collapsed_sections": [],
      "toc_visible": true
    },
    "kernelspec": {
      "name": "python3",
      "display_name": "Python 3"
    }
  },
  "cells": [
    {
      "cell_type": "markdown",
      "metadata": {
        "id": "9PoBA2I-15Cl",
        "colab_type": "text"
      },
      "source": [
        "# Importing Dependencies"
      ]
    },
    {
      "cell_type": "code",
      "metadata": {
        "id": "PdjG9PeC1wTW",
        "colab_type": "code",
        "colab": {}
      },
      "source": [
        "import numpy as np\n",
        "import pandas as pd\n",
        "import json\n",
        "import os"
      ],
      "execution_count": 0,
      "outputs": []
    },
    {
      "cell_type": "markdown",
      "metadata": {
        "id": "XE0TKmT92ZMB",
        "colab_type": "text"
      },
      "source": [
        "# Importing files\n",
        "\n",
        "Training data can either be downloaded manually at https://www.kaggle.com/c/ieee-fraud-detection/data or downlaoded automatically using kaggle api credentials. Instructions for how to download your kaggle credentials as a json: https://github.com/Kaggle/kaggle-api#api-credentials"
      ]
    },
    {
      "cell_type": "markdown",
      "metadata": {
        "id": "_oDBSsS86mif",
        "colab_type": "text"
      },
      "source": [
        "### Download files automatically using api credentials stored in kaggle.json"
      ]
    },
    {
      "cell_type": "code",
      "metadata": {
        "id": "bXSfhzVp-AKB",
        "colab_type": "code",
        "colab": {
          "base_uri": "https://localhost:8080/",
          "height": 425
        },
        "outputId": "7dc43360-83ff-431a-d4c7-b58283368a2f"
      },
      "source": [
        "# retrieve credentials from file\n",
        "with open('kaggle.json') as f:\n",
        "    d = json.load(f)\n",
        "    \n",
        "# Use credentials to download data\n",
        "os.environ['KAGGLE_USERNAME'] = d[\"username\"]\n",
        "os.environ['KAGGLE_KEY'] = d[\"key\"]\n",
        "! kaggle competitions download -c ieee-fraud-detection\n",
        "\n",
        "# unzip all data files\n",
        "!unzip train_transaction.csv.zip\n",
        "!unzip train_identity.csv.zip\n",
        "!unzip test_transaction.csv.zip\n",
        "!unzip test_identity.csv.zip\n",
        "\n",
        "# remove unuzed zip files\n",
        "os.remove(\"train_transaction.csv.zip\")\n",
        "os.remove(\"train_identity.csv.zip\")\n",
        "os.remove(\"test_transaction.csv.zip\")\n",
        "os.remove(\"test_identity.csv.zip\")"
      ],
      "execution_count": 13,
      "outputs": [
        {
          "output_type": "stream",
          "text": [
            "Warning: Looks like you're using an outdated API Version, please consider updating (server 1.5.6 / client 1.5.4)\n",
            "Downloading train_transaction.csv.zip to /content\n",
            " 90% 47.0M/52.5M [00:00<00:00, 131MB/s]\n",
            "100% 52.5M/52.5M [00:00<00:00, 150MB/s]\n",
            "Downloading train_identity.csv.zip to /content\n",
            "  0% 0.00/3.02M [00:00<?, ?B/s]\n",
            "100% 3.02M/3.02M [00:00<00:00, 205MB/s]\n",
            "Downloading test_transaction.csv.zip to /content\n",
            " 76% 36.0M/47.3M [00:00<00:00, 86.0MB/s]\n",
            "100% 47.3M/47.3M [00:00<00:00, 158MB/s] \n",
            "Downloading test_identity.csv.zip to /content\n",
            "  0% 0.00/2.97M [00:00<?, ?B/s]\n",
            "100% 2.97M/2.97M [00:00<00:00, 145MB/s]\n",
            "Downloading sample_submission.csv.zip to /content\n",
            "  0% 0.00/1.14M [00:00<?, ?B/s]\n",
            "100% 1.14M/1.14M [00:00<00:00, 150MB/s]\n",
            "Archive:  train_transaction.csv.zip\n",
            "  inflating: train_transaction.csv   \n",
            "Archive:  train_identity.csv.zip\n",
            "  inflating: train_identity.csv      \n",
            "Archive:  test_transaction.csv.zip\n",
            "  inflating: test_transaction.csv    \n",
            "Archive:  test_identity.csv.zip\n",
            "  inflating: test_identity.csv       \n"
          ],
          "name": "stdout"
        }
      ]
    },
    {
      "cell_type": "markdown",
      "metadata": {
        "id": "jltdjHjoCZWx",
        "colab_type": "text"
      },
      "source": [
        "# Data preprocessing"
      ]
    },
    {
      "cell_type": "code",
      "metadata": {
        "id": "_dmnQSS3AM3o",
        "colab_type": "code",
        "colab": {}
      },
      "source": [
        "train_transaction = pd.read_csv('train_transaction.csv')\n",
        "test_transaction = pd.read_csv('test_transaction.csv')\n",
        "train_identity = pd.read_csv('train_identity.csv')\n",
        "test_identity = pd.read_csv('test_identity.csv')"
      ],
      "execution_count": 0,
      "outputs": []
    }
  ]
}